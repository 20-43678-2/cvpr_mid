{
 "cells": [
  {
   "cell_type": "code",
   "execution_count": 1,
   "id": "07aa529f",
   "metadata": {},
   "outputs": [
    {
     "ename": "ImportError",
     "evalue": "Matplotlib requires numpy>=1.20; you have 1.19.5",
     "output_type": "error",
     "traceback": [
      "\u001b[1;31m---------------------------------------------------------------------------\u001b[0m",
      "\u001b[1;31mImportError\u001b[0m                               Traceback (most recent call last)",
      "Cell \u001b[1;32mIn[1], line 5\u001b[0m\n\u001b[0;32m      3\u001b[0m \u001b[38;5;28;01mfrom\u001b[39;00m \u001b[38;5;21;01mtqdm\u001b[39;00m \u001b[38;5;28;01mimport\u001b[39;00m tqdm\n\u001b[0;32m      4\u001b[0m \u001b[38;5;28;01mimport\u001b[39;00m \u001b[38;5;21;01mnumpy\u001b[39;00m \u001b[38;5;28;01mas\u001b[39;00m \u001b[38;5;21;01mnp\u001b[39;00m\n\u001b[1;32m----> 5\u001b[0m \u001b[38;5;28;01mimport\u001b[39;00m \u001b[38;5;21;01mmatplotlib\u001b[39;00m\u001b[38;5;21;01m.\u001b[39;00m\u001b[38;5;21;01mpyplot\u001b[39;00m \u001b[38;5;28;01mas\u001b[39;00m \u001b[38;5;21;01mplt\u001b[39;00m\n",
      "File \u001b[1;32m~\\anaconda3\\envs\\cvpr\\lib\\site-packages\\matplotlib\\__init__.py:229\u001b[0m\n\u001b[0;32m    224\u001b[0m         \u001b[38;5;28;01mif\u001b[39;00m parse_version(module\u001b[38;5;241m.\u001b[39m__version__) \u001b[38;5;241m<\u001b[39m parse_version(minver):\n\u001b[0;32m    225\u001b[0m             \u001b[38;5;28;01mraise\u001b[39;00m \u001b[38;5;167;01mImportError\u001b[39;00m(\u001b[38;5;124mf\u001b[39m\u001b[38;5;124m\"\u001b[39m\u001b[38;5;124mMatplotlib requires \u001b[39m\u001b[38;5;132;01m{\u001b[39;00mmodname\u001b[38;5;132;01m}\u001b[39;00m\u001b[38;5;124m>=\u001b[39m\u001b[38;5;132;01m{\u001b[39;00mminver\u001b[38;5;132;01m}\u001b[39;00m\u001b[38;5;124m; \u001b[39m\u001b[38;5;124m\"\u001b[39m\n\u001b[0;32m    226\u001b[0m                               \u001b[38;5;124mf\u001b[39m\u001b[38;5;124m\"\u001b[39m\u001b[38;5;124myou have \u001b[39m\u001b[38;5;132;01m{\u001b[39;00mmodule\u001b[38;5;241m.\u001b[39m__version__\u001b[38;5;132;01m}\u001b[39;00m\u001b[38;5;124m\"\u001b[39m)\n\u001b[1;32m--> 229\u001b[0m \u001b[43m_check_versions\u001b[49m\u001b[43m(\u001b[49m\u001b[43m)\u001b[49m\n\u001b[0;32m    232\u001b[0m \u001b[38;5;66;03m# The decorator ensures this always returns the same handler (and it is only\u001b[39;00m\n\u001b[0;32m    233\u001b[0m \u001b[38;5;66;03m# attached once).\u001b[39;00m\n\u001b[0;32m    234\u001b[0m \u001b[38;5;129m@functools\u001b[39m\u001b[38;5;241m.\u001b[39mlru_cache()\n\u001b[0;32m    235\u001b[0m \u001b[38;5;28;01mdef\u001b[39;00m \u001b[38;5;21m_ensure_handler\u001b[39m():\n",
      "File \u001b[1;32m~\\anaconda3\\envs\\cvpr\\lib\\site-packages\\matplotlib\\__init__.py:225\u001b[0m, in \u001b[0;36m_check_versions\u001b[1;34m()\u001b[0m\n\u001b[0;32m    223\u001b[0m module \u001b[38;5;241m=\u001b[39m importlib\u001b[38;5;241m.\u001b[39mimport_module(modname)\n\u001b[0;32m    224\u001b[0m \u001b[38;5;28;01mif\u001b[39;00m parse_version(module\u001b[38;5;241m.\u001b[39m__version__) \u001b[38;5;241m<\u001b[39m parse_version(minver):\n\u001b[1;32m--> 225\u001b[0m     \u001b[38;5;28;01mraise\u001b[39;00m \u001b[38;5;167;01mImportError\u001b[39;00m(\u001b[38;5;124mf\u001b[39m\u001b[38;5;124m\"\u001b[39m\u001b[38;5;124mMatplotlib requires \u001b[39m\u001b[38;5;132;01m{\u001b[39;00mmodname\u001b[38;5;132;01m}\u001b[39;00m\u001b[38;5;124m>=\u001b[39m\u001b[38;5;132;01m{\u001b[39;00mminver\u001b[38;5;132;01m}\u001b[39;00m\u001b[38;5;124m; \u001b[39m\u001b[38;5;124m\"\u001b[39m\n\u001b[0;32m    226\u001b[0m                       \u001b[38;5;124mf\u001b[39m\u001b[38;5;124m\"\u001b[39m\u001b[38;5;124myou have \u001b[39m\u001b[38;5;132;01m{\u001b[39;00mmodule\u001b[38;5;241m.\u001b[39m__version__\u001b[38;5;132;01m}\u001b[39;00m\u001b[38;5;124m\"\u001b[39m)\n",
      "\u001b[1;31mImportError\u001b[0m: Matplotlib requires numpy>=1.20; you have 1.19.5"
     ]
    }
   ],
   "source": [
    "import os\n",
    "import cv2\n",
    "from tqdm import tqdm\n",
    "import numpy as np\n",
    "import matplotlib.pyplot as plt"
   ]
  },
  {
   "cell_type": "code",
   "execution_count": null,
   "id": "1fca0b93",
   "metadata": {},
   "outputs": [],
   "source": [
    "def manhattan_distance(x1, x2):\n",
    "    return np.sum(np.abs(x1 - x2))\n",
    "\n",
    "def euclidean_distance(x1, x2):\n",
    "    return np.sqrt(np.sum((x1 - x2) ** 2))\n",
    "\n",
    "class KNN:\n",
    "    def __init__(self, k=3):\n",
    "        self.k = k\n",
    "\n",
    "    def fit(self, X, y):\n",
    "        self.X_train = X\n",
    "        self.y_train = y\n",
    "\n",
    "    def predict(self, X, method=\"L1\"):\n",
    "        y_pred = [self._predict(x, method=method) for x in X]\n",
    "        return np.array(y_pred)\n",
    "\n",
    "    def _predict(self, x, method=\"L1\"):\n",
    "        # Compute distances between x and all examples in the training set\n",
    "        if method==\"L1\":\n",
    "            distances = [manhattan_distance(x, x_train) for x_train in self.X_train]\n",
    "        else:\n",
    "            distances = [euclidean_distance(x, x_train) for x_train in self.X_train]\n",
    "        # Sort by distance and return indices of the first k neighbors\n",
    "        k_indices = np.argsort(distances)[:self.k]\n",
    "        # Extract the labels of the k nearest neighbor training samples\n",
    "        k_nearest_labels = [self.y_train[i] for i in k_indices]\n",
    "        # Return the most common class label\n",
    "        most_common = np.argmax(np.bincount(k_nearest_labels))\n",
    "        return most_common\n",
    "    def measure_distances(self, X, method=\"L1\"):\n",
    "        # Compute distances between x and all examples in the training set\n",
    "        self.distance_array=[]\n",
    "        for x in tqdm(X):\n",
    "            if method==\"L1\":\n",
    "                distances = [manhattan_distance(x, x_train) for x_train in self.X_train]\n",
    "            else:\n",
    "                distances = [euclidean_distance(x, x_train) for x_train in self.X_train]\n",
    "            self.distance_array.append(distances)\n",
    "    def predict_by_k(self, k):\n",
    "        y_pred=[]\n",
    "        for dst in self.distance_array:\n",
    "            k_indices = np.argsort(dst)[:k]\n",
    "            # Extract the labels of the k nearest neighbor training samples\n",
    "            k_nearest_labels = [self.y_train[i] for i in k_indices]\n",
    "            # print(k_nearest_labels)\n",
    "            # Return the most common class label\n",
    "            most_common = np.argmax(np.bincount(k_nearest_labels))\n",
    "            y_pred.append(most_common)\n",
    "        return np.array(y_pred)\n"
   ]
  },
  {
   "cell_type": "code",
   "execution_count": null,
   "id": "8e560c73",
   "metadata": {},
   "outputs": [],
   "source": [
    "# Example usage\n",
    "# Create a toy dataset\n",
    "X = np.array([[1, 2], [1.5, 1.8], [5, 8], [8, 8], [1, 0.6], [9, 11]])\n",
    "y = np.array([0, 0, 1, 1, 0, 1])\n",
    "\n",
    "# Instantiate the KNN classifier\n",
    "knn = KNN(k=2)\n",
    "\n",
    "# Train the classifier\n",
    "knn.fit(X, y)\n",
    "\n",
    "# Test data\n",
    "X_test = np.array([[1, 2.5], [2, 3], [6, 9], [7, 9], [1, 1], [10, 12]])\n",
    "\n",
    "# Predict the labels for the test data\n",
    "y_pred = knn.predict(X_test, method=\"L2\")"
   ]
  },
  {
   "cell_type": "code",
   "execution_count": null,
   "id": "e9c89c48",
   "metadata": {},
   "outputs": [],
   "source": [
    "# Print the predicted labels\n",
    "print(\"Predicted labels:\", y_pred)"
   ]
  },
  {
   "cell_type": "code",
   "execution_count": null,
   "id": "7c96ccc6",
   "metadata": {},
   "outputs": [],
   "source": [
    "# Example usage\n",
    "# Create a toy dataset\n",
    "X = np.array([[1, 2], [1.5, 1.8], [5, 8], [8, 8], [1, 0.6], [9, 11]])\n",
    "y = np.array([0, 0, 1, 1, 0, 1])\n",
    "\n",
    "# Instantiate the KNN classifier\n",
    "knn = KNN(k=2)\n",
    "\n",
    "# Train the classifier\n",
    "knn.fit(X, y)\n",
    "\n",
    "# Test data\n",
    "X_test = np.array([[1, 2.5], [2, 3], [6, 9], [7, 9], [1, 1], [10, 12]])\n",
    "\n",
    "# Predict the labels for the test data\n",
    "knn.measure_distances(X_test)\n",
    "\n",
    "y_pred = knn.predict_by_k(2)\n",
    "\n",
    "# Print the predicted labels\n",
    "print(\"Predicted labels:\", y_pred)\n",
    "y_pred = knn.predict_by_k(5)\n",
    "\n",
    "# Print the predicted labels\n",
    "print(\"Predicted labels:\", y_pred)"
   ]
  },
  {
   "cell_type": "code",
   "execution_count": null,
   "id": "d4814b11",
   "metadata": {},
   "outputs": [],
   "source": [
    "DATA_DIR = 'CIFAR-10-images-master'\n",
    "TRAIN_DATA_DIR = os.path.join(DATA_DIR, 'train')\n",
    "TEST_DATA_DIR = os.path.join(DATA_DIR, 'test')"
   ]
  },
  {
   "cell_type": "code",
   "execution_count": null,
   "id": "65d9f6b6",
   "metadata": {},
   "outputs": [],
   "source": [
    "IMG_SIZE = 32\n",
    "CATEGORIES = []\n",
    "\n",
    "for i in os.listdir(TRAIN_DATA_DIR):\n",
    "    CATEGORIES.append(i)\n",
    "    \n",
    "print(CATEGORIES)"
   ]
  },
  {
   "cell_type": "code",
   "execution_count": null,
   "id": "8e15bacf",
   "metadata": {},
   "outputs": [],
   "source": [
    "plt.figure(figsize=(15,15))\n",
    "i=0\n",
    "for c in CATEGORIES:  \n",
    "    path = os.path.join(TRAIN_DATA_DIR,c)\n",
    "    for img in os.listdir(path):\n",
    "        img_array = cv2.imread(os.path.join(path,img), cv2.IMREAD_GRAYSCALE)\n",
    "        plt.subplot(10,10,i+1)\n",
    "        plt.imshow(img_array)\n",
    "        if i%10 == 0:\n",
    "            plt.ylabel(c)\n",
    "        plt.xticks([])\n",
    "        plt.yticks([])\n",
    "        i += 1\n",
    "        if i%10 == 0:\n",
    "            break\n",
    "\n",
    "plt.tight_layout()        \n",
    "plt.show() "
   ]
  },
  {
   "cell_type": "code",
   "execution_count": null,
   "id": "72c0d807",
   "metadata": {},
   "outputs": [],
   "source": [
    "training_data = []\n",
    "training_data_X = []\n",
    "training_data_Y = []\n",
    "for c in CATEGORIES:\n",
    "    path = os.path.join(TRAIN_DATA_DIR, c) # 'E:/DATASETS/classification/Face Mask Dataset/train/WithMask'\n",
    "    class_num = CATEGORIES.index(c) # 0\n",
    "    for img in tqdm(os.listdir(path)):\n",
    "        try:\n",
    "            img_array = cv2.imread(os.path.join(path, img), cv2.IMREAD_GRAYSCALE)   # read the image\n",
    "            img_resized = cv2.resize(img_array, (IMG_SIZE, IMG_SIZE))  # resize the image\n",
    "            training_data.append([np.reshape(img_resized, IMG_SIZE*IMG_SIZE), class_num]) # [ [img, 0], [], [], [], ...., []]\n",
    "            #training_data_X.append(np.reshape(img_resized, (IMG_SIZE*IMG_SIZE))) # [ [img, 0], [], [], [], ...., []]\n",
    "            #training_data_Y.append(class_num) # [ [img, 0], [], [], [], ...., []]\n",
    "            #training_data_X = np.append(training_data_X, np.reshape(img_resized, (1,32*32)), axis=0)\n",
    "            #training_data_Y = np.append(training_data_Y, class_num, axis=0)\n",
    "        except WException as e:\n",
    "            pass\n",
    "        \n",
    "print(len(training_data))"
   ]
  },
  {
   "cell_type": "code",
   "execution_count": null,
   "id": "5d3931e5",
   "metadata": {},
   "outputs": [],
   "source": [
    "print(training_data[0][0])\n",
    "print(training_data[0][1])"
   ]
  },
  {
   "cell_type": "code",
   "execution_count": null,
   "id": "02a6a7a5",
   "metadata": {},
   "outputs": [],
   "source": [
    "print(len(training_data[0][0]))\n",
    "print(len(training_data[0]))"
   ]
  },
  {
   "cell_type": "code",
   "execution_count": null,
   "id": "53826c64",
   "metadata": {},
   "outputs": [],
   "source": [
    "training_data_X = []\n",
    "training_data_Y = []"
   ]
  },
  {
   "cell_type": "code",
   "execution_count": null,
   "id": "2db1e7eb",
   "metadata": {},
   "outputs": [],
   "source": [
    "from numpy import random"
   ]
  },
  {
   "cell_type": "code",
   "execution_count": null,
   "id": "66c5af3f",
   "metadata": {},
   "outputs": [],
   "source": [
    "random.shuffle(training_data)"
   ]
  },
  {
   "cell_type": "code",
   "execution_count": null,
   "id": "39903c91",
   "metadata": {},
   "outputs": [],
   "source": [
    "for data in training_data:\n",
    "    training_data_X.append(data[0])\n",
    "    training_data_Y.append(data[1])"
   ]
  },
  {
   "cell_type": "code",
   "execution_count": null,
   "id": "ccdae39b",
   "metadata": {},
   "outputs": [],
   "source": [
    "print(training_data_X[0])"
   ]
  },
  {
   "cell_type": "code",
   "execution_count": null,
   "id": "165554b5",
   "metadata": {
    "scrolled": true
   },
   "outputs": [],
   "source": [
    "print(training_data_Y[0:30000])"
   ]
  },
  {
   "cell_type": "code",
   "execution_count": null,
   "id": "919d86e2",
   "metadata": {},
   "outputs": [],
   "source": [
    "from sklearn.metrics import accuracy_score\n",
    "from sklearn.datasets import load_digits\n",
    "from sklearn.model_selection import KFold"
   ]
  },
  {
   "cell_type": "code",
   "execution_count": null,
   "id": "3294b740",
   "metadata": {},
   "outputs": [],
   "source": [
    "X=np.array(training_data_X[:2000])\n",
    "y=np.array(training_data_Y[:2000])"
   ]
  },
  {
   "cell_type": "code",
   "execution_count": null,
   "id": "75950575",
   "metadata": {},
   "outputs": [],
   "source": [
    "print(X[0])"
   ]
  },
  {
   "cell_type": "code",
   "execution_count": null,
   "id": "b5cf04da",
   "metadata": {},
   "outputs": [],
   "source": [
    "# Define the number of folds for cross-validation\n",
    "k_folds = 5\n",
    "result1=[]\n",
    "# Create a KNN classifier with k=3\n",
    "knn3 = KNN()\n",
    "# Perform cross-validation\n",
    "kf = KFold(n_splits=k_folds)\n",
    "for train_index, test_index in kf.split(X):\n",
    "    #print(\"k-fold\")\n",
    "    # Split the data into training and testing sets for this fold\n",
    "    X_train, X_test = X[train_index], X[test_index]\n",
    "    y_train, y_test = y[train_index], y[test_index]\n",
    "\n",
    "    # Train the classifier\n",
    "    knn3.fit(X_train, y_train)\n",
    "\n",
    "    #measure distances\n",
    "    knn3.measure_distances(X_test, method=\"L1\")\n",
    "    # Make predictions on the test set\n",
    "    accuracies1 = []\n",
    "    x_axis1=[]\n",
    "    for i in tqdm(range(1,100)):\n",
    "        x_axis1.append(i)\n",
    "        y_pred = knn3.predict_by_k(i)\n",
    "        # Calculate the accuracy of the classifier for this fold\n",
    "        accuracy = accuracy_score(y_test, y_pred)\n",
    "        accuracies1.append(accuracy)\n",
    "    result1.append(accuracies1)\n",
    "\n",
    "# Calculate the average accuracy across all folds\n",
    "# average_accuracy = np.mean(accuracies)\n",
    "# print(\"Average Accuracy:\", average_accuracy)"
   ]
  },
  {
   "cell_type": "code",
   "execution_count": null,
   "id": "8e33faef",
   "metadata": {},
   "outputs": [],
   "source": [
    "# Define the number of folds for cross-validation\n",
    "k_folds = 5\n",
    "result2=[]\n",
    "# Create a KNN classifier with k=3\n",
    "knn4 = KNN()\n",
    "# Perform cross-validation\n",
    "kf = KFold(n_splits=k_folds)\n",
    "for train_index, test_index in kf.split(X):\n",
    "    #print(\"k-fold\")\n",
    "    # Split the data into training and testing sets for this fold\n",
    "    X_train, X_test = X[train_index], X[test_index]\n",
    "    y_train, y_test = y[train_index], y[test_index]\n",
    "\n",
    "    # Train the classifier\n",
    "    knn4.fit(X_train, y_train)\n",
    "\n",
    "    #measure distances\n",
    "    knn4.measure_distances(X_test, method=\"L2\")\n",
    "    # Make predictions on the test set\n",
    "    accuracies2 = []\n",
    "    x_axis2=[]\n",
    "    for i in tqdm(range(1,100,2)):\n",
    "        x_axis2.append(i)\n",
    "        y_pred = knn4.predict_by_k(i)\n",
    "        # Calculate the accuracy of the classifier for this fold\n",
    "        accuracy2 = accuracy_score(y_test, y_pred)\n",
    "        accuracies2.append(accuracy2)\n",
    "    result2.append(accuracies2)\n",
    "\n",
    "# Calculate the average accuracy across all folds\n",
    "# average_accuracy = np.mean(accuracies)\n",
    "# print(\"Average Accuracy:\", average_accuracy)"
   ]
  },
  {
   "cell_type": "code",
   "execution_count": null,
   "id": "0f345c39",
   "metadata": {},
   "outputs": [],
   "source": [
    "y_axis1=[]\n",
    "for i in np.transpose(result1):\n",
    "    average_accuracy = np.mean(i)\n",
    "    y_axis1.append(average_accuracy)\n",
    "    #print(\"Average Accuracy:\", average_accuracy)"
   ]
  },
  {
   "cell_type": "code",
   "execution_count": null,
   "id": "bf0c79ae",
   "metadata": {},
   "outputs": [],
   "source": [
    "y_axis2=[]\n",
    "for i in np.transpose(result2):\n",
    "    average_accuracy = np.mean(i)\n",
    "    y_axis2.append(average_accuracy)\n",
    "    #print(\"Average Accuracy:\", average_accuracy)"
   ]
  },
  {
   "cell_type": "code",
   "execution_count": null,
   "id": "b00edd33",
   "metadata": {},
   "outputs": [],
   "source": [
    "# x_axis=[]\n",
    "# y_axis=[]\n",
    "# for i in result:\n",
    "#     x_axis.append(i[0])\n",
    "#     y_axis.append(i[1])\n",
    "#     # print(i)\n",
    "print(x_axis1)\n",
    "print(y_axis1)"
   ]
  },
  {
   "cell_type": "code",
   "execution_count": null,
   "id": "2a265b18",
   "metadata": {},
   "outputs": [],
   "source": [
    "# x_axis=[]\n",
    "# y_axis=[]\n",
    "# for i in result:\n",
    "#     x_axis.append(i[0])\n",
    "#     y_axis.append(i[1])\n",
    "#     # print(i)\n",
    "print(x_axis2)\n",
    "print(y_axis2)"
   ]
  },
  {
   "cell_type": "code",
   "execution_count": null,
   "id": "37b6e8a2",
   "metadata": {},
   "outputs": [],
   "source": [
    "plt.figsize=(15,15)\n",
    "x1 = np.array(x_axis1[:])\n",
    "y1 = np.array(y_axis1[:])\n",
    "\n",
    "x2 = np.array(x_axis2[:])\n",
    "y2 = np.array(y_axis2[:])\n",
    "\n",
    "plt.plot(x1, y1, label=\"L1\", marker = '.')\n",
    "plt.plot(x2, y2, label=\"L2\", marker = '.')\n",
    "plt.legend()\n",
    "plt.ylim((0.05,0.25))\n",
    "plt.xlabel(\"cross validation on k\")\n",
    "plt.ylabel(\"cross validation accuracy\")\n",
    "plt.show()"
   ]
  },
  {
   "cell_type": "code",
   "execution_count": null,
   "id": "19bf42b6",
   "metadata": {},
   "outputs": [],
   "source": [
    "print(\"For L1:\")\n",
    "print(\"Max accuracy: \", np.max(y_axis1))\n",
    "print(\"Value of K: \", x_axis1[np.argmax(y_axis1)])\n",
    "print()\n",
    "print(\"For L2:\")\n",
    "print(\"Max accuracy: \", np.max(y_axis2))\n",
    "print(\"Value of K: \", x_axis2[np.argmax(y_axis2)])"
   ]
  }
 ],
 "metadata": {
  "kernelspec": {
   "display_name": "Python 3 (ipykernel)",
   "language": "python",
   "name": "python3"
  },
  "language_info": {
   "codemirror_mode": {
    "name": "ipython",
    "version": 3
   },
   "file_extension": ".py",
   "mimetype": "text/x-python",
   "name": "python",
   "nbconvert_exporter": "python",
   "pygments_lexer": "ipython3",
   "version": "3.8.17"
  }
 },
 "nbformat": 4,
 "nbformat_minor": 5
}
